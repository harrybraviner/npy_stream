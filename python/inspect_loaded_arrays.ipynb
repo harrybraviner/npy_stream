{
 "cells": [
  {
   "cell_type": "code",
   "execution_count": 1,
   "id": "c1a16155",
   "metadata": {},
   "outputs": [],
   "source": [
    "import numpy as np"
   ]
  },
  {
   "cell_type": "code",
   "execution_count": 21,
   "id": "efa5a2d6",
   "metadata": {},
   "outputs": [],
   "source": [
    "x = np.load('../example_output/inc_array_1000_100.npy')"
   ]
  },
  {
   "cell_type": "code",
   "execution_count": 22,
   "id": "acfe0cb8",
   "metadata": {},
   "outputs": [
    {
     "data": {
      "text/plain": [
       "array([[0.0000e+00, 1.0000e+00, 2.0000e+00, ..., 9.7000e+01, 9.8000e+01,\n",
       "        9.9000e+01],\n",
       "       [1.0000e+02, 1.0100e+02, 1.0200e+02, ..., 1.9700e+02, 1.9800e+02,\n",
       "        1.9900e+02],\n",
       "       [2.0000e+02, 2.0100e+02, 2.0200e+02, ..., 2.9700e+02, 2.9800e+02,\n",
       "        2.9900e+02],\n",
       "       ...,\n",
       "       [9.9700e+04, 9.9701e+04, 9.9702e+04, ..., 9.9797e+04, 9.9798e+04,\n",
       "        9.9799e+04],\n",
       "       [9.9800e+04, 9.9801e+04, 9.9802e+04, ..., 9.9897e+04, 9.9898e+04,\n",
       "        9.9899e+04],\n",
       "       [9.9900e+04, 9.9901e+04, 9.9902e+04, ..., 9.9997e+04, 9.9998e+04,\n",
       "        9.9999e+04]], dtype=float32)"
      ]
     },
     "execution_count": 22,
     "metadata": {},
     "output_type": "execute_result"
    }
   ],
   "source": [
    "x"
   ]
  },
  {
   "cell_type": "code",
   "execution_count": null,
   "id": "ed7096f7",
   "metadata": {},
   "outputs": [],
   "source": []
  }
 ],
 "metadata": {
  "kernelspec": {
   "display_name": "Python 3 (ipykernel)",
   "language": "python",
   "name": "python3"
  },
  "language_info": {
   "codemirror_mode": {
    "name": "ipython",
    "version": 3
   },
   "file_extension": ".py",
   "mimetype": "text/x-python",
   "name": "python",
   "nbconvert_exporter": "python",
   "pygments_lexer": "ipython3",
   "version": "3.8.12"
  }
 },
 "nbformat": 4,
 "nbformat_minor": 5
}
